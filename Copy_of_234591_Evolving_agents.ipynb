{
  "cells": [
    {
      "cell_type": "markdown",
      "metadata": {
        "id": "Mp7i_jzAKGPy"
      },
      "source": [
        "<h1><center><b> Acquired Intelligence & Adaptive Behaviour </b></center></h1>\n",
        "<h2><center><i>Evolving agents (Lab Sheet 03) </i></center></h2>\n",
        "\n",
        "In this sheet we will take what we learned in the first two sheets to evolve a neural network which controls some agent. Your goal is to apply the GA your developed in the previous labs to this agent. The sheet includes an example of a single hillclimber which doesnt do very well. Once you have something working then experiment with different networks and different tasks.\n",
        "\n",
        "We will be using the [`CartPole-v1`](https://gym.openai.com/envs/CartPole-v1/) task from `OpenAI` gym:\n",
        "\n",
        "\n",
        "<center><img src=\"https://gym.openai.com/videos/2019-10-21--mqt8Qj1mwo/CartPole-v1/poster.jpg\" width=\"300\"></center>\n",
        "\n",
        "> _A pole is attached by an un-actuated joint to a cart, which moves along a frictionless track. The system is controlled by applying a force of +1 or -1 to the cart. The pendulum starts upright, and the goal is to prevent it from falling over. A reward of +1 is provided for every timestep that the pole remains upright. The episode ends when the pole is more than 15 degrees from vertical, or the cart moves more than 2.4 units from the center._\n",
        "\n",
        "\n",
        "_If things stop working always try restarting the kernel, `opengl` does some strange things to Colab_\n",
        "\n"
      ]
    },
    {
      "cell_type": "markdown",
      "metadata": {
        "id": "4TmGVOnehoVT"
      },
      "source": [
        "## Imports\n",
        "(_We need to install some packages so we can render in Google colab_)"
      ]
    },
    {
      "cell_type": "code",
      "execution_count": null,
      "metadata": {
        "colab": {
          "base_uri": "https://localhost:8080/"
        },
        "id": "Ssnb-wmdEQKf",
        "outputId": "f136ad11-78b2-4e04-d457-ce486b2d45fd"
      },
      "outputs": [
        {
          "output_type": "stream",
          "name": "stdout",
          "text": [
            "\r0% [Working]\r            \rGet:1 http://security.ubuntu.com/ubuntu bionic-security InRelease [88.7 kB]\n",
            "\r0% [Connecting to archive.ubuntu.com (91.189.91.39)] [1 InRelease 14.2 kB/88.7 \r                                                                               \rHit:2 http://archive.ubuntu.com/ubuntu bionic InRelease\n",
            "\r0% [Waiting for headers] [1 InRelease 88.7 kB/88.7 kB 100%] [Connected to cloud\r                                                                               \rGet:3 http://archive.ubuntu.com/ubuntu bionic-updates InRelease [88.7 kB]\n",
            "\r                                                                               \rGet:4 https://cloud.r-project.org/bin/linux/ubuntu bionic-cran40/ InRelease [3,626 B]\n",
            "Get:5 https://developer.download.nvidia.com/compute/cuda/repos/ubuntu1804/x86_64  InRelease [1,581 B]\n",
            "Get:6 http://archive.ubuntu.com/ubuntu bionic-backports InRelease [74.6 kB]\n",
            "Get:7 http://ppa.launchpad.net/c2d4u.team/c2d4u4.0+/ubuntu bionic InRelease [15.9 kB]\n",
            "Ign:8 https://developer.download.nvidia.com/compute/machine-learning/repos/ubuntu1804/x86_64  InRelease\n",
            "Hit:9 https://developer.download.nvidia.com/compute/machine-learning/repos/ubuntu1804/x86_64  Release\n",
            "Hit:10 http://ppa.launchpad.net/cran/libgit2/ubuntu bionic InRelease\n",
            "Get:11 http://ppa.launchpad.net/deadsnakes/ppa/ubuntu bionic InRelease [15.9 kB]\n",
            "Get:12 http://ppa.launchpad.net/graphics-drivers/ppa/ubuntu bionic InRelease [21.3 kB]\n",
            "Get:13 http://security.ubuntu.com/ubuntu bionic-security/main amd64 Packages [2,762 kB]\n",
            "Get:14 http://security.ubuntu.com/ubuntu bionic-security/restricted amd64 Packages [932 kB]\n",
            "Get:15 http://security.ubuntu.com/ubuntu bionic-security/universe amd64 Packages [1,503 kB]\n",
            "Get:16 https://cloud.r-project.org/bin/linux/ubuntu bionic-cran40/ Packages [85.2 kB]\n",
            "Get:17 https://developer.download.nvidia.com/compute/cuda/repos/ubuntu1804/x86_64  Packages [770 kB]\n",
            "Get:18 http://archive.ubuntu.com/ubuntu bionic-updates/universe amd64 Packages [2,277 kB]\n",
            "Get:19 http://archive.ubuntu.com/ubuntu bionic-updates/restricted amd64 Packages [966 kB]\n",
            "Get:20 http://archive.ubuntu.com/ubuntu bionic-updates/main amd64 Packages [3,197 kB]\n",
            "Get:22 http://ppa.launchpad.net/c2d4u.team/c2d4u4.0+/ubuntu bionic/main Sources [1,957 kB]\n",
            "Get:23 http://ppa.launchpad.net/c2d4u.team/c2d4u4.0+/ubuntu bionic/main amd64 Packages [1,004 kB]\n",
            "Get:24 http://ppa.launchpad.net/deadsnakes/ppa/ubuntu bionic/main amd64 Packages [45.3 kB]\n",
            "Get:25 http://ppa.launchpad.net/graphics-drivers/ppa/ubuntu bionic/main amd64 Packages [44.3 kB]\n",
            "Fetched 15.9 MB in 7s (2,231 kB/s)\n",
            "Reading package lists... Done\n",
            "Reading package lists... Done\n",
            "Building dependency tree       \n",
            "Reading state information... Done\n",
            "The following packages were automatically installed and are no longer required:\n",
            "  libnvidia-common-460 nsight-compute-2020.2.0\n",
            "Use 'apt autoremove' to remove them.\n",
            "The following NEW packages will be installed:\n",
            "  xvfb\n",
            "0 upgraded, 1 newly installed, 0 to remove and 72 not upgraded.\n",
            "Need to get 784 kB of archives.\n",
            "After this operation, 2,271 kB of additional disk space will be used.\n",
            "Get:1 http://archive.ubuntu.com/ubuntu bionic-updates/universe amd64 xvfb amd64 2:1.19.6-1ubuntu4.10 [784 kB]\n",
            "Fetched 784 kB in 0s (7,590 kB/s)\n",
            "Selecting previously unselected package xvfb.\n",
            "(Reading database ... 155203 files and directories currently installed.)\n",
            "Preparing to unpack .../xvfb_2%3a1.19.6-1ubuntu4.10_amd64.deb ...\n",
            "Unpacking xvfb (2:1.19.6-1ubuntu4.10) ...\n",
            "Setting up xvfb (2:1.19.6-1ubuntu4.10) ...\n",
            "Processing triggers for man-db (2.8.3-2ubuntu0.1) ...\n"
          ]
        }
      ],
      "source": [
        "!apt-get update\n",
        "!apt install xvfb \n",
        "!apt-get install x11-utils > /dev/null 2>&1\n",
        "!apt-get install -y xvfb python-opengl > /dev/null 2>&1\n",
        "!pip install gym pyvirtualdisplay > /dev/null 2>&1"
      ]
    },
    {
      "cell_type": "code",
      "execution_count": null,
      "metadata": {
        "id": "K5oallqreVrz"
      },
      "outputs": [],
      "source": [
        "import os\n",
        "import shutil\n",
        "import random\n",
        "import copy\n",
        "import matplotlib.pyplot as plt\n",
        "from IPython import display as ipythondisplay\n",
        "\n",
        "import gym\n",
        "from gym import logger as gymlogger\n",
        "from gym.wrappers import Monitor\n",
        "import numpy as np\n",
        "import torch"
      ]
    },
    {
      "cell_type": "markdown",
      "metadata": {
        "id": "cYVg52CkqA18"
      },
      "source": [
        "## OpenAI gym\n",
        "\n",
        "Let's take a basic look at a `gym` agent loop. Here, we will just use random actions. The following envs which are relatively simple:\n",
        "\n",
        "- `Cartpole-v1`\n",
        "- `Acrobot-v1`\n",
        "- `MountainCar-v0`\n",
        "- `Pendulum-v0`\n",
        "\n",
        "Note each environment will accept different actions and observations (see the lecture). Some accept discrete (`int`) actions and observations, some accept continuous (`float`) actions and observations. Use `env.action_space` and `env.observation_space`.\n",
        "\n",
        "Here we will use `CartPole-v1`:"
      ]
    },
    {
      "cell_type": "code",
      "execution_count": null,
      "metadata": {
        "colab": {
          "base_uri": "https://localhost:8080/"
        },
        "id": "NWvGRsZbsPgA",
        "outputId": "5dcb8f33-f8fa-40a8-9f53-a02b5cee91da"
      },
      "outputs": [
        {
          "output_type": "stream",
          "name": "stdout",
          "text": [
            "Action space Discrete(2) \n",
            "Observation space Box(-3.4028234663852886e+38, 3.4028234663852886e+38, (4,), float32)\n"
          ]
        }
      ],
      "source": [
        "env_name = 'CartPole-v1'\n",
        "env = gym.make(env_name) # create the gym environment\n",
        "print(f\"Action space {env.action_space} \\nObservation space {env.observation_space}\")"
      ]
    },
    {
      "cell_type": "markdown",
      "metadata": {
        "id": "wm5vD5SIsxat"
      },
      "source": [
        "**Action:** This means that the environment accepts a single number as an action, which is a discrete number in $[0, 1]$. Here, 0 corresponds to 'push cart to the left' and 1 corresponds to 'push cart to the right'. But the whole point of the `gym` philosophy is that you don't need to know this. \n",
        "\n",
        "**Observation:** `Box` is a class from `gym`, it just means the observations will be wihtin some range (here -3.4 and 3.4), there will be 4 observations, and they will be continuous (`float32`). These 4 numbers corresponds to `\n",
        "\n",
        "- position of cart\n",
        "- velocity of cart\n",
        "- angle of pole \n",
        "- rotation rate of pole \n",
        "\n",
        "But we had to Google that, good general-purpose agents don't need to know the semantics of the observations: they can learn how to map observations to actions to maximize reward without any prior knowledge.\n",
        "\n",
        "Let's see how to run a `gym` environment. Two more concepts are needed here:\n",
        "\n",
        "**Reset**: When you are learning agents, you need to run simulations hundreds (or billions if you are Google) times. Rather than create a new `env` instance each time, we can call `env.reset()` at the start of each simulation. \n",
        "\n",
        "**Done**: `gym` will tell you if the the simulations has finished. For instance, if you have died, or the time limit has been reached. You can also end the simulation yourself, but generally you rely on what `gym` says. Each time you call `env.step()` (coverered below) `gym` will tell you whether the simulations is finished or not\n",
        "\n",
        "**Reward**: calling `env.step()` will also return how much reward you got for that time step. The amount of reward will vary for each environment, but all you need to know is that **more reward is better.** It will always a single floating point number. \n",
        "\n",
        "**Info**: `env.step()` also returns a dictionary called `info`. This sometimes contain additional information, but you can safely ignore it, \n",
        "\n",
        "**Step**: Brining this togetherm `env.step()` operates like this:\n",
        "\n",
        "```python\n",
        "obs, reward, done, info = env.step(action)\n",
        "```\n",
        "\n",
        "Here is an example ***(note I am just using random actions for now - there is no agent)***:"
      ]
    },
    {
      "cell_type": "code",
      "execution_count": null,
      "metadata": {
        "colab": {
          "base_uri": "https://localhost:8080/"
        },
        "id": "peBTi4jsqMNt",
        "outputId": "b57a9233-3c2e-4eff-f7db-1d4e915721ed"
      },
      "outputs": [
        {
          "output_type": "stream",
          "name": "stdout",
          "text": [
            "obs[-0.04 -0.2   0.03  0.27] reward 1.0 action 0 done False info {}\n",
            "obs[-0.04 -0.4   0.04  0.57] reward 1.0 action 0 done False info {}\n",
            "obs[-0.05 -0.2   0.05  0.29] reward 1.0 action 1 done False info {}\n",
            "obs[-0.05 -0.4   0.05  0.6 ] reward 1.0 action 0 done False info {}\n",
            "obs[-0.06 -0.2   0.07  0.32] reward 1.0 action 1 done False info {}\n",
            "obs[-0.06 -0.01  0.07  0.05] reward 1.0 action 1 done False info {}\n",
            "obs[-0.06  0.18  0.07 -0.21] reward 1.0 action 1 done False info {}\n",
            "obs[-0.06  0.38  0.07 -0.48] reward 1.0 action 1 done False info {}\n",
            "obs[-0.05  0.18  0.06 -0.17] reward 1.0 action 0 done False info {}\n",
            "obs[-0.05 -0.01  0.06  0.14] reward 1.0 action 0 done False info {}\n",
            "obs[-0.05 -0.21  0.06  0.45] reward 1.0 action 0 done False info {}\n",
            "obs[-0.05 -0.01  0.07  0.18] reward 1.0 action 1 done False info {}\n",
            "obs[-0.05  0.18  0.07 -0.09] reward 1.0 action 1 done False info {}\n",
            "obs[-0.05  0.37  0.07 -0.36] reward 1.0 action 1 done False info {}\n",
            "obs[-0.04  0.57  0.06 -0.63] reward 1.0 action 1 done False info {}\n",
            "obs[-0.03  0.37  0.05 -0.32] reward 1.0 action 0 done False info {}\n",
            "obs[-0.02  0.57  0.04 -0.59] reward 1.0 action 1 done False info {}\n",
            "obs[-0.01  0.76  0.03 -0.87] reward 1.0 action 1 done False info {}\n",
            "obs[ 0.    0.95  0.02 -1.16] reward 1.0 action 1 done False info {}\n",
            "obs[ 0.02  1.15 -0.01 -1.44] reward 1.0 action 1 done False info {}\n",
            "obs[ 0.04  0.95 -0.04 -1.15] reward 1.0 action 0 done False info {}\n",
            "obs[ 0.06  0.76 -0.06 -0.87] reward 1.0 action 0 done False info {}\n",
            "obs[ 0.08  0.96 -0.08 -1.18] reward 1.0 action 1 done False info {}\n",
            "obs[ 0.1   1.15 -0.1  -1.5 ] reward 1.0 action 1 done False info {}\n",
            "obs[ 0.12  0.96 -0.13 -1.24] reward 1.0 action 0 done False info {}\n",
            "obs[ 0.14  0.77 -0.16 -0.99] reward 1.0 action 0 done False info {}\n",
            "obs[ 0.15  0.96 -0.18 -1.33] reward 1.0 action 1 done False info {}\n",
            "obs[ 0.17  1.16 -0.2  -1.67] reward 1.0 action 1 done False info {}\n",
            "obs[ 0.2   1.36 -0.24 -2.02] reward 1.0 action 1 done True info {}\n"
          ]
        }
      ],
      "source": [
        "env_name = 'CartPole-v1'\n",
        "env = gym.make(env_name)\n",
        "\n",
        "env.reset()\n",
        "done = False\n",
        "while not done:\n",
        "    action = env.action_space.sample() # put agent here\n",
        "    obs, reward, done, info = env.step(action)\n",
        "    print(f\"obs{np.round(obs, 2)} reward {reward} action {action} done {done} info {info}\")"
      ]
    },
    {
      "cell_type": "markdown",
      "metadata": {
        "id": "FILWQ_m7w6gj"
      },
      "source": [
        "It's best practice to wrap a single episode (or simulation, run, whatever you want to call it) in a function. The function will take the agent which we will create below, and which will have a `get_action` function which will take the observations generated by the environment. This function then returns the total reward from that episode. It is a type of **fitness function**:"
      ]
    },
    {
      "cell_type": "code",
      "execution_count": null,
      "metadata": {
        "id": "d4CXnXekp_tP"
      },
      "outputs": [],
      "source": [
        "def run_episode(env, agent):\n",
        "    tot_reward = 0.0\n",
        "    obs = env.reset()\n",
        "    done = False\n",
        "    while not done:\n",
        "        action = agent.get_action(obs)\n",
        "        obs, reward, done, info = env.step(action)\n",
        "        tot_reward = tot_reward + reward\n",
        "    return tot_reward"
      ]
    },
    {
      "cell_type": "markdown",
      "metadata": {
        "id": "NHTwzNuBxgC6"
      },
      "source": [
        "## Visualising your agent\n",
        "\n",
        "It is normally very simple to visualise your simulations. But Google Colab makes it very hard. Here, we have provided a wrapper function which will visualise your episode. You don't need to understand it, and it's slow, so don't use it during learning (use it to view your agent after learning). \n",
        "\n",
        "Passing an agent to the function is optional. If you don't pass an agent, it selects actions at random"
      ]
    },
    {
      "cell_type": "code",
      "execution_count": null,
      "metadata": {
        "colab": {
          "base_uri": "https://localhost:8080/",
          "height": 460
        },
        "id": "9qQLG9ZSx4b3",
        "outputId": "2a16ad4c-5764-418f-edd5-c2223fd6de71"
      },
      "outputs": [
        {
          "output_type": "error",
          "ename": "ModuleNotFoundError",
          "evalue": "ignored",
          "traceback": [
            "\u001b[0;31m---------------------------------------------------------------------------\u001b[0m",
            "\u001b[0;31mModuleNotFoundError\u001b[0m                       Traceback (most recent call last)",
            "\u001b[0;32m<ipython-input-6-1244a83da5c0>\u001b[0m in \u001b[0;36m<module>\u001b[0;34m()\u001b[0m\n\u001b[1;32m     30\u001b[0m \u001b[0;34m\u001b[0m\u001b[0m\n\u001b[1;32m     31\u001b[0m \u001b[0;31m# This is the function call\u001b[0m\u001b[0;34m\u001b[0m\u001b[0;34m\u001b[0m\u001b[0;34m\u001b[0m\u001b[0m\n\u001b[0;32m---> 32\u001b[0;31m \u001b[0mvisual_episode\u001b[0m\u001b[0;34m(\u001b[0m\u001b[0menv\u001b[0m\u001b[0;34m)\u001b[0m\u001b[0;34m\u001b[0m\u001b[0;34m\u001b[0m\u001b[0m\n\u001b[0m",
            "\u001b[0;32m<ipython-input-6-1244a83da5c0>\u001b[0m in \u001b[0;36mvisual_episode\u001b[0;34m(env, agent)\u001b[0m\n\u001b[1;32m      1\u001b[0m \u001b[0;32mdef\u001b[0m \u001b[0mvisual_episode\u001b[0m\u001b[0;34m(\u001b[0m\u001b[0menv\u001b[0m\u001b[0;34m,\u001b[0m \u001b[0magent\u001b[0m\u001b[0;34m=\u001b[0m\u001b[0;32mNone\u001b[0m\u001b[0;34m)\u001b[0m\u001b[0;34m:\u001b[0m\u001b[0;34m\u001b[0m\u001b[0;34m\u001b[0m\u001b[0m\n\u001b[0;32m----> 2\u001b[0;31m     \u001b[0;32mfrom\u001b[0m \u001b[0mpyvirtualdisplay\u001b[0m \u001b[0;32mimport\u001b[0m \u001b[0mDisplay\u001b[0m\u001b[0;34m\u001b[0m\u001b[0;34m\u001b[0m\u001b[0m\n\u001b[0m\u001b[1;32m      3\u001b[0m     \u001b[0mdisplay\u001b[0m \u001b[0;34m=\u001b[0m \u001b[0mDisplay\u001b[0m\u001b[0;34m(\u001b[0m\u001b[0mvisible\u001b[0m\u001b[0;34m=\u001b[0m\u001b[0;36m0\u001b[0m\u001b[0;34m,\u001b[0m \u001b[0msize\u001b[0m\u001b[0;34m=\u001b[0m\u001b[0;34m(\u001b[0m\u001b[0;36m400\u001b[0m\u001b[0;34m,\u001b[0m \u001b[0;36m300\u001b[0m\u001b[0;34m)\u001b[0m\u001b[0;34m)\u001b[0m\u001b[0;34m\u001b[0m\u001b[0;34m\u001b[0m\u001b[0m\n\u001b[1;32m      4\u001b[0m     \u001b[0mdisplay\u001b[0m\u001b[0;34m.\u001b[0m\u001b[0mstart\u001b[0m\u001b[0;34m(\u001b[0m\u001b[0;34m)\u001b[0m\u001b[0;34m\u001b[0m\u001b[0;34m\u001b[0m\u001b[0m\n\u001b[1;32m      5\u001b[0m     \u001b[0mprev_screen\u001b[0m \u001b[0;34m=\u001b[0m \u001b[0menv\u001b[0m\u001b[0;34m.\u001b[0m\u001b[0mrender\u001b[0m\u001b[0;34m(\u001b[0m\u001b[0mmode\u001b[0m\u001b[0;34m=\u001b[0m\u001b[0;34m'rgb_array'\u001b[0m\u001b[0;34m)\u001b[0m\u001b[0;34m\u001b[0m\u001b[0;34m\u001b[0m\u001b[0m\n",
            "\u001b[0;31mModuleNotFoundError\u001b[0m: No module named 'pyvirtualdisplay'",
            "",
            "\u001b[0;31m---------------------------------------------------------------------------\u001b[0;32m\nNOTE: If your import is failing due to a missing package, you can\nmanually install dependencies using either !pip or !apt.\n\nTo view examples of installing some common dependencies, click the\n\"Open Examples\" button below.\n\u001b[0;31m---------------------------------------------------------------------------\u001b[0m\n"
          ],
          "errorDetails": {
            "actions": [
              {
                "action": "open_url",
                "actionText": "Open Examples",
                "url": "/notebooks/snippets/importing_libraries.ipynb"
              }
            ]
          }
        }
      ],
      "source": [
        "def visual_episode(env, agent=None):\n",
        "    from pyvirtualdisplay import Display\n",
        "    display = Display(visible=0, size=(400, 300))\n",
        "    display.start()\n",
        "    prev_screen = env.render(mode='rgb_array')\n",
        "    plt.imshow(prev_screen)\n",
        "\n",
        "    tot_reward = 0.0\n",
        "    obs = env.reset()\n",
        "    done = False\n",
        "    curr_t = 0\n",
        "    while not done:\n",
        "        if agent is not None:\n",
        "            action = agent.get_action(obs)\n",
        "        else:\n",
        "            action = env.action_space.sample()\n",
        "        obs, reward, done, info = env.step(action)\n",
        "        screen = env.render(mode='rgb_array')\n",
        "        tot_reward = tot_reward + reward\n",
        "\n",
        "        plt.imshow(screen)\n",
        "        plt.title(curr_t)\n",
        "        ipythondisplay.clear_output(wait=True)\n",
        "        ipythondisplay.display(plt.gcf())\n",
        "        curr_t = curr_t + 1\n",
        "\n",
        "    ipythondisplay.clear_output(wait=True)\n",
        "    env.close()\n",
        "    return tot_reward\n",
        "\n",
        "# This is the function call\n",
        "visual_episode(env)"
      ]
    },
    {
      "cell_type": "markdown",
      "metadata": {
        "id": "yml_dzbGZrad"
      },
      "source": [
        "### Savind the simulation frames\n",
        "Alternatively instead of displaying the frames on Google colab you can save them in a folder here and download them later.\n",
        "You can look for the folder on the left hand sidebar. "
      ]
    },
    {
      "cell_type": "code",
      "execution_count": null,
      "metadata": {
        "colab": {
          "base_uri": "https://localhost:8080/",
          "height": 345
        },
        "id": "qEtjn8YzVXaA",
        "outputId": "df88c0aa-2f85-4ba7-e3a2-9da1e46172d4"
      },
      "outputs": [
        {
          "output_type": "error",
          "ename": "NameError",
          "evalue": "ignored",
          "traceback": [
            "\u001b[0;31m---------------------------------------------------------------------------\u001b[0m",
            "\u001b[0;31mNameError\u001b[0m                                 Traceback (most recent call last)",
            "\u001b[0;32m<ipython-input-11-00290a3b5f65>\u001b[0m in \u001b[0;36m<module>\u001b[0;34m()\u001b[0m\n\u001b[1;32m     21\u001b[0m \u001b[0;34m\u001b[0m\u001b[0m\n\u001b[1;32m     22\u001b[0m \u001b[0;31m# This is the function call\u001b[0m\u001b[0;34m\u001b[0m\u001b[0;34m\u001b[0m\u001b[0;34m\u001b[0m\u001b[0m\n\u001b[0;32m---> 23\u001b[0;31m \u001b[0msave_vis\u001b[0m\u001b[0;34m(\u001b[0m\u001b[0menv\u001b[0m\u001b[0;34m)\u001b[0m\u001b[0;34m\u001b[0m\u001b[0;34m\u001b[0m\u001b[0m\n\u001b[0m",
            "\u001b[0;32m<ipython-input-11-00290a3b5f65>\u001b[0m in \u001b[0;36msave_vis\u001b[0;34m(env, agent, dirname)\u001b[0m\n\u001b[1;32m     13\u001b[0m             \u001b[0maction\u001b[0m \u001b[0;34m=\u001b[0m \u001b[0menv\u001b[0m\u001b[0;34m.\u001b[0m\u001b[0maction_space\u001b[0m\u001b[0;34m.\u001b[0m\u001b[0msample\u001b[0m\u001b[0;34m(\u001b[0m\u001b[0;34m)\u001b[0m\u001b[0;34m\u001b[0m\u001b[0;34m\u001b[0m\u001b[0m\n\u001b[1;32m     14\u001b[0m         \u001b[0mobs\u001b[0m\u001b[0;34m,\u001b[0m \u001b[0mreward\u001b[0m\u001b[0;34m,\u001b[0m \u001b[0mdone\u001b[0m\u001b[0;34m,\u001b[0m \u001b[0minfo\u001b[0m \u001b[0;34m=\u001b[0m \u001b[0menv\u001b[0m\u001b[0;34m.\u001b[0m\u001b[0mstep\u001b[0m\u001b[0;34m(\u001b[0m\u001b[0maction\u001b[0m\u001b[0;34m)\u001b[0m\u001b[0;34m\u001b[0m\u001b[0;34m\u001b[0m\u001b[0m\n\u001b[0;32m---> 15\u001b[0;31m         \u001b[0mscreen\u001b[0m \u001b[0;34m=\u001b[0m \u001b[0menv\u001b[0m\u001b[0;34m.\u001b[0m\u001b[0mrender\u001b[0m\u001b[0;34m(\u001b[0m\u001b[0mmode\u001b[0m\u001b[0;34m=\u001b[0m\u001b[0;34m'rgb_array'\u001b[0m\u001b[0;34m)\u001b[0m\u001b[0;34m\u001b[0m\u001b[0;34m\u001b[0m\u001b[0m\n\u001b[0m\u001b[1;32m     16\u001b[0m         \u001b[0mtot_reward\u001b[0m \u001b[0;34m=\u001b[0m \u001b[0mtot_reward\u001b[0m \u001b[0;34m+\u001b[0m \u001b[0mreward\u001b[0m\u001b[0;34m\u001b[0m\u001b[0;34m\u001b[0m\u001b[0m\n\u001b[1;32m     17\u001b[0m         \u001b[0mplt\u001b[0m\u001b[0;34m.\u001b[0m\u001b[0mimshow\u001b[0m\u001b[0;34m(\u001b[0m\u001b[0mscreen\u001b[0m\u001b[0;34m)\u001b[0m\u001b[0;34m\u001b[0m\u001b[0;34m\u001b[0m\u001b[0m\n",
            "\u001b[0;32m/usr/local/lib/python3.7/dist-packages/gym/core.py\u001b[0m in \u001b[0;36mrender\u001b[0;34m(self, mode, **kwargs)\u001b[0m\n\u001b[1;32m    238\u001b[0m \u001b[0;34m\u001b[0m\u001b[0m\n\u001b[1;32m    239\u001b[0m     \u001b[0;32mdef\u001b[0m \u001b[0mrender\u001b[0m\u001b[0;34m(\u001b[0m\u001b[0mself\u001b[0m\u001b[0;34m,\u001b[0m \u001b[0mmode\u001b[0m\u001b[0;34m=\u001b[0m\u001b[0;34m'human'\u001b[0m\u001b[0;34m,\u001b[0m \u001b[0;34m**\u001b[0m\u001b[0mkwargs\u001b[0m\u001b[0;34m)\u001b[0m\u001b[0;34m:\u001b[0m\u001b[0;34m\u001b[0m\u001b[0;34m\u001b[0m\u001b[0m\n\u001b[0;32m--> 240\u001b[0;31m         \u001b[0;32mreturn\u001b[0m \u001b[0mself\u001b[0m\u001b[0;34m.\u001b[0m\u001b[0menv\u001b[0m\u001b[0;34m.\u001b[0m\u001b[0mrender\u001b[0m\u001b[0;34m(\u001b[0m\u001b[0mmode\u001b[0m\u001b[0;34m,\u001b[0m \u001b[0;34m**\u001b[0m\u001b[0mkwargs\u001b[0m\u001b[0;34m)\u001b[0m\u001b[0;34m\u001b[0m\u001b[0;34m\u001b[0m\u001b[0m\n\u001b[0m\u001b[1;32m    241\u001b[0m \u001b[0;34m\u001b[0m\u001b[0m\n\u001b[1;32m    242\u001b[0m     \u001b[0;32mdef\u001b[0m \u001b[0mclose\u001b[0m\u001b[0;34m(\u001b[0m\u001b[0mself\u001b[0m\u001b[0;34m)\u001b[0m\u001b[0;34m:\u001b[0m\u001b[0;34m\u001b[0m\u001b[0;34m\u001b[0m\u001b[0m\n",
            "\u001b[0;32m/usr/local/lib/python3.7/dist-packages/gym/envs/classic_control/cartpole.py\u001b[0m in \u001b[0;36mrender\u001b[0;34m(self, mode)\u001b[0m\n\u001b[1;32m    172\u001b[0m \u001b[0;34m\u001b[0m\u001b[0m\n\u001b[1;32m    173\u001b[0m         \u001b[0;32mif\u001b[0m \u001b[0mself\u001b[0m\u001b[0;34m.\u001b[0m\u001b[0mviewer\u001b[0m \u001b[0;32mis\u001b[0m \u001b[0;32mNone\u001b[0m\u001b[0;34m:\u001b[0m\u001b[0;34m\u001b[0m\u001b[0;34m\u001b[0m\u001b[0m\n\u001b[0;32m--> 174\u001b[0;31m             \u001b[0;32mfrom\u001b[0m \u001b[0mgym\u001b[0m\u001b[0;34m.\u001b[0m\u001b[0menvs\u001b[0m\u001b[0;34m.\u001b[0m\u001b[0mclassic_control\u001b[0m \u001b[0;32mimport\u001b[0m \u001b[0mrendering\u001b[0m\u001b[0;34m\u001b[0m\u001b[0;34m\u001b[0m\u001b[0m\n\u001b[0m\u001b[1;32m    175\u001b[0m             \u001b[0mself\u001b[0m\u001b[0;34m.\u001b[0m\u001b[0mviewer\u001b[0m \u001b[0;34m=\u001b[0m \u001b[0mrendering\u001b[0m\u001b[0;34m.\u001b[0m\u001b[0mViewer\u001b[0m\u001b[0;34m(\u001b[0m\u001b[0mscreen_width\u001b[0m\u001b[0;34m,\u001b[0m \u001b[0mscreen_height\u001b[0m\u001b[0;34m)\u001b[0m\u001b[0;34m\u001b[0m\u001b[0;34m\u001b[0m\u001b[0m\n\u001b[1;32m    176\u001b[0m             \u001b[0ml\u001b[0m\u001b[0;34m,\u001b[0m \u001b[0mr\u001b[0m\u001b[0;34m,\u001b[0m \u001b[0mt\u001b[0m\u001b[0;34m,\u001b[0m \u001b[0mb\u001b[0m \u001b[0;34m=\u001b[0m \u001b[0;34m-\u001b[0m\u001b[0mcartwidth\u001b[0m \u001b[0;34m/\u001b[0m \u001b[0;36m2\u001b[0m\u001b[0;34m,\u001b[0m \u001b[0mcartwidth\u001b[0m \u001b[0;34m/\u001b[0m \u001b[0;36m2\u001b[0m\u001b[0;34m,\u001b[0m \u001b[0mcartheight\u001b[0m \u001b[0;34m/\u001b[0m \u001b[0;36m2\u001b[0m\u001b[0;34m,\u001b[0m \u001b[0;34m-\u001b[0m\u001b[0mcartheight\u001b[0m \u001b[0;34m/\u001b[0m \u001b[0;36m2\u001b[0m\u001b[0;34m\u001b[0m\u001b[0;34m\u001b[0m\u001b[0m\n",
            "\u001b[0;32m/usr/local/lib/python3.7/dist-packages/gym/envs/classic_control/rendering.py\u001b[0m in \u001b[0;36m<module>\u001b[0;34m()\u001b[0m\n\u001b[1;32m     23\u001b[0m \u001b[0;34m\u001b[0m\u001b[0m\n\u001b[1;32m     24\u001b[0m \u001b[0;32mtry\u001b[0m\u001b[0;34m:\u001b[0m\u001b[0;34m\u001b[0m\u001b[0;34m\u001b[0m\u001b[0m\n\u001b[0;32m---> 25\u001b[0;31m     \u001b[0;32mfrom\u001b[0m \u001b[0mpyglet\u001b[0m\u001b[0;34m.\u001b[0m\u001b[0mgl\u001b[0m \u001b[0;32mimport\u001b[0m \u001b[0;34m*\u001b[0m\u001b[0;34m\u001b[0m\u001b[0;34m\u001b[0m\u001b[0m\n\u001b[0m\u001b[1;32m     26\u001b[0m \u001b[0;32mexcept\u001b[0m \u001b[0mImportError\u001b[0m \u001b[0;32mas\u001b[0m \u001b[0me\u001b[0m\u001b[0;34m:\u001b[0m\u001b[0;34m\u001b[0m\u001b[0;34m\u001b[0m\u001b[0m\n\u001b[1;32m     27\u001b[0m     raise ImportError('''\n",
            "\u001b[0;32m/usr/local/lib/python3.7/dist-packages/pyglet/gl/__init__.py\u001b[0m in \u001b[0;36m<module>\u001b[0;34m()\u001b[0m\n\u001b[1;32m    233\u001b[0m \u001b[0;32melif\u001b[0m \u001b[0mcompat_platform\u001b[0m \u001b[0;34m==\u001b[0m \u001b[0;34m'darwin'\u001b[0m\u001b[0;34m:\u001b[0m\u001b[0;34m\u001b[0m\u001b[0;34m\u001b[0m\u001b[0m\n\u001b[1;32m    234\u001b[0m     \u001b[0;32mfrom\u001b[0m \u001b[0;34m.\u001b[0m\u001b[0mcocoa\u001b[0m \u001b[0;32mimport\u001b[0m \u001b[0mCocoaConfig\u001b[0m \u001b[0;32mas\u001b[0m \u001b[0mConfig\u001b[0m\u001b[0;34m\u001b[0m\u001b[0;34m\u001b[0m\u001b[0m\n\u001b[0;32m--> 235\u001b[0;31m \u001b[0;32mdel\u001b[0m \u001b[0mbase\u001b[0m  \u001b[0;31m# noqa: F821\u001b[0m\u001b[0;34m\u001b[0m\u001b[0;34m\u001b[0m\u001b[0m\n\u001b[0m\u001b[1;32m    236\u001b[0m \u001b[0;34m\u001b[0m\u001b[0m\n\u001b[1;32m    237\u001b[0m \u001b[0;34m\u001b[0m\u001b[0m\n",
            "\u001b[0;31mNameError\u001b[0m: name 'base' is not defined"
          ]
        }
      ],
      "source": [
        "def save_vis(env, agent=None, dirname='sim_frames'):\n",
        "    if os.path.isdir(dirname):\n",
        "      shutil.rmtree(dirname)\n",
        "    os.makedirs(dirname, exist_ok=True)\n",
        "    tot_reward = 0.0\n",
        "    obs = env.reset()\n",
        "    done = False\n",
        "    curr_t = 0\n",
        "    while not done:\n",
        "        if agent is not None:\n",
        "            action = agent.get_action(obs)\n",
        "        else:\n",
        "            action = env.action_space.sample()\n",
        "        obs, reward, done, info = env.step(action)\n",
        "        screen = env.render(mode='rgb_array')\n",
        "        tot_reward = tot_reward + reward\n",
        "        plt.imshow(screen)\n",
        "        plt.title(curr_t)\n",
        "        plt.savefig(os.path.join(dirname, 'fig{}'.format(curr_t)))\n",
        "        curr_t += 1\n",
        "\n",
        "# This is the function call\n",
        "save_vis(env)"
      ]
    },
    {
      "cell_type": "markdown",
      "metadata": {
        "id": "v8qLU5Bmhp5p"
      },
      "source": [
        "## Agent\n",
        "\n",
        "We can now move on to the idea of agents. We will need to make a way to map genotypes to agents. Our agents will use neural networks to select actions, so a natural method is to have the genes encode the weights and biases of your neural network.\n",
        "\n",
        "Our agent will take the number of inputs (the number of observations from the environment) and map it to the number of outputs (in this case, a single action).\n",
        "\n",
        "We will use the `set_gene` function to map a list of floats (our genes) of length `num_genes` (see the `Agent` class) to a set of weights and biases.\n",
        "\n",
        "The output of this neural network will be a continuous. We will therefore map the number to a discrete output (0 or 1) by thresholding.\n",
        "The rest of this class should be familiar from the previous work sheets.\n",
        "\n"
      ]
    },
    {
      "cell_type": "code",
      "execution_count": null,
      "metadata": {
        "id": "Ln93lnSoesE_"
      },
      "outputs": [],
      "source": [
        "class Agent:\n",
        "    def __init__(self, num_input, num_output):\n",
        "        self.num_input = num_input \n",
        "        self.num_output = num_output\n",
        "        self.num_genes = num_input * num_output + num_output\n",
        "        self.weights = None\n",
        "        self.bias = None\n",
        "\n",
        "    def set_genes(self, gene):\n",
        "        weight_idxs = self.num_input * self.num_output\n",
        "        bias_idxs = self.num_input * self.num_output + self.num_output\n",
        "        w = gene[0 : weight_idxs].reshape(self.num_output, self.num_input)   \n",
        "        b = gene[weight_idxs: bias_idxs].reshape(self.num_output,)\n",
        "        self.weights = torch.from_numpy(w)\n",
        "        self.bias = torch.from_numpy(b)\n",
        "\n",
        "    def forward(self, x):\n",
        "        x = torch.from_numpy(x).unsqueeze(0)\n",
        "        return torch.mm(x, self.weights.T) + self.bias\n",
        "\n",
        "    def get_action(self, x):\n",
        "        if self.forward(x) > 0:\n",
        "            return 1\n",
        "        else:\n",
        "            return 0"
      ]
    },
    {
      "cell_type": "markdown",
      "metadata": {
        "id": "N2uQvWniDBAL"
      },
      "source": [
        "Creating our agent is simple:"
      ]
    },
    {
      "cell_type": "code",
      "execution_count": null,
      "metadata": {
        "id": "wHBFJLgJDDho"
      },
      "outputs": [],
      "source": [
        "num_obs = 4 # depends on your environment\n",
        "num_actions = 1 # depends on your environment\n",
        "agent = Agent(num_obs, num_actions)"
      ]
    },
    {
      "cell_type": "markdown",
      "metadata": {
        "id": "Foxu9W5WlZI4"
      },
      "source": [
        "## Learning your agent\n",
        "\n",
        "We now need a way to change our genes in order to maximise reward. We will use the GA method, and you are encouraged to try different variants.\n",
        "\n",
        "We can encode the populations of genes in the same way as previous weeks, The `Agent` class has a field called `num_genes`, this is how many genes you need. \n",
        "\n",
        "**Note that our gene are now continuous valued numbers, unlike last week**"
      ]
    },
    {
      "cell_type": "code",
      "execution_count": null,
      "metadata": {
        "colab": {
          "base_uri": "https://localhost:8080/"
        },
        "id": "ueirAmnAC63K",
        "outputId": "5923a617-fb07-44c6-ffc8-41aa811078dc"
      },
      "outputs": [
        {
          "output_type": "stream",
          "name": "stdout",
          "text": [
            "15 individuals in population, 5 genes per individual\n"
          ]
        }
      ],
      "source": [
        "num_obs = 4 \n",
        "num_actions = 1 \n",
        "agent = Agent(num_obs, num_actions)\n",
        "\n",
        "pop_size = 15\n",
        "num_genes = agent.num_genes\n",
        "gene_pop = np.random.normal(0, 0.1, (pop_size, num_genes))\n",
        "# gene_pop = np.zeros((pop_size, num_genes))\n",
        "print(f\"{gene_pop.shape[0]} individuals in population, {gene_pop.shape[1]} genes per individual\")"
      ]
    },
    {
      "cell_type": "markdown",
      "metadata": {
        "id": "ODvof3A6GOAZ"
      },
      "source": [
        "## Fitness function\n",
        "\n",
        "We want to maximise the reward from running our simulations. For each genotype in our population, we map it to an agent, evaluate its reward, and return a list of rewards for each agent. "
      ]
    },
    {
      "cell_type": "code",
      "execution_count": null,
      "metadata": {
        "id": "stNkZTSpGQTA"
      },
      "outputs": [],
      "source": [
        "def fitness_function(env, agent, gene_pop):\n",
        "    # Get fitness for each gene\n",
        "    pop_size = gene_pop.shape[0]\n",
        "    pop_fitness = np.zeros(pop_size)\n",
        "    for i, gene in enumerate(gene_pop):\n",
        "        agent.set_genes(gene)\n",
        "        pop_fitness[i] = run_episode(env, agent)\n",
        "    return pop_fitness"
      ]
    },
    {
      "cell_type": "markdown",
      "metadata": {
        "id": "B7TGqVvUHmRV"
      },
      "source": [
        "## Mutation \n",
        "\n",
        "We need some method for making mutations to genes. Below is an extremely simple example where we just add Gaussian noise, but we suggest you explore better methods"
      ]
    },
    {
      "cell_type": "code",
      "execution_count": null,
      "metadata": {
        "id": "0ug9iYMKH4JX"
      },
      "outputs": [],
      "source": [
        "def mutation_function(gene_pop, mean=0, std=0.1):\n",
        "    gene_pop = np.copy(gene_pop)\n",
        "    for i, gene in enumerate(gene_pop):\n",
        "        gene_pop[i] = gene_pop[i] + np.random.normal(mean, std, size=gene.shape)\n",
        "    # constraint\n",
        "    gene_pop[gene_pop > 4] = 4\n",
        "    gene_pop[gene_pop < -4] = -4\n",
        "\n",
        "    return gene_pop"
      ]
    },
    {
      "cell_type": "markdown",
      "metadata": {
        "id": "2ssn4fOAIt8T"
      },
      "source": [
        "## Selection\n",
        "\n",
        "We also need some way to determine whether our mutation was benefical. Below is a simple function which takes the mutated value if it was an improvement, otherwise keeps the original value"
      ]
    },
    {
      "cell_type": "code",
      "execution_count": null,
      "metadata": {
        "id": "c0jb4Yk6JAAK"
      },
      "outputs": [],
      "source": [
        "def select_genes(prev_gene_pop, gene_pop, prev_fitness, fitness):\n",
        "    new_gene_pop = np.zeros_like(gene_pop)\n",
        "    for i, gene in enumerate(gene_pop): \n",
        "        if fitness[i] >= prev_fitness[i]: \n",
        "            new_gene_pop[i] = gene_pop[i]\n",
        "        else:\n",
        "            new_gene_pop[i] = prev_gene_pop[i]\n",
        "\n",
        "    return new_gene_pop"
      ]
    },
    {
      "cell_type": "markdown",
      "metadata": {
        "id": "lEkEX5vSqYLp"
      },
      "source": [
        "# Best genotype\n",
        "\n",
        "A function to get the best gene from a population. You may want to use that after the GA has run and you need to visualise the result."
      ]
    },
    {
      "cell_type": "code",
      "execution_count": null,
      "metadata": {
        "id": "K80uEWJQqbqv"
      },
      "outputs": [],
      "source": [
        "def get_best_gene(gene_pop, fitness):\n",
        "    i = np.argmax(fitness)\n",
        "    return gene_pop[i]"
      ]
    },
    {
      "cell_type": "markdown",
      "metadata": {
        "id": "MeDUuWKWKl_7"
      },
      "source": [
        "## Hill climbing"
      ]
    },
    {
      "cell_type": "code",
      "execution_count": null,
      "metadata": {
        "colab": {
          "base_uri": "https://localhost:8080/",
          "height": 693
        },
        "id": "LRnXfeg9E1ma",
        "outputId": "19c84b73-d7a6-4c49-e91c-cffae5632731"
      },
      "outputs": [
        {
          "output_type": "stream",
          "name": "stdout",
          "text": [
            "Mean fitness of population 37.53333333333333\n",
            "Max fitness of population 271.0\n",
            "Mean fitness of population 131.66666666666666\n",
            "Max fitness of population 500.0\n",
            "Mean fitness of population 140.6\n",
            "Max fitness of population 500.0\n",
            "Mean fitness of population 197.66666666666666\n",
            "Max fitness of population 500.0\n",
            "Mean fitness of population 211.46666666666667\n",
            "Max fitness of population 500.0\n",
            "Mean fitness of population 234.46666666666667\n",
            "Max fitness of population 500.0\n",
            "Mean fitness of population 264.2\n",
            "Max fitness of population 500.0\n",
            "Mean fitness of population 261.6666666666667\n",
            "Max fitness of population 500.0\n",
            "Mean fitness of population 240.66666666666666\n",
            "Max fitness of population 500.0\n"
          ]
        },
        {
          "output_type": "error",
          "ename": "KeyboardInterrupt",
          "evalue": "ignored",
          "traceback": [
            "\u001b[0;31m---------------------------------------------------------------------------\u001b[0m",
            "\u001b[0;31mKeyboardInterrupt\u001b[0m                         Traceback (most recent call last)",
            "\u001b[0;32m<ipython-input-16-8e8e656296bf>\u001b[0m in \u001b[0;36m<module>\u001b[0;34m()\u001b[0m\n\u001b[1;32m     21\u001b[0m \u001b[0;34m\u001b[0m\u001b[0m\n\u001b[1;32m     22\u001b[0m     \u001b[0;31m# Get fitness of the mutated population\u001b[0m\u001b[0;34m\u001b[0m\u001b[0;34m\u001b[0m\u001b[0;34m\u001b[0m\u001b[0m\n\u001b[0;32m---> 23\u001b[0;31m     \u001b[0mfitness\u001b[0m \u001b[0;34m=\u001b[0m \u001b[0mfitness_function\u001b[0m\u001b[0;34m(\u001b[0m\u001b[0menv\u001b[0m\u001b[0;34m,\u001b[0m \u001b[0magent\u001b[0m\u001b[0;34m,\u001b[0m \u001b[0mgene_pop\u001b[0m\u001b[0;34m)\u001b[0m\u001b[0;34m\u001b[0m\u001b[0;34m\u001b[0m\u001b[0m\n\u001b[0m\u001b[1;32m     24\u001b[0m \u001b[0;34m\u001b[0m\u001b[0m\n\u001b[1;32m     25\u001b[0m     \u001b[0;31m# Apply selection\u001b[0m\u001b[0;34m\u001b[0m\u001b[0;34m\u001b[0m\u001b[0;34m\u001b[0m\u001b[0m\n",
            "\u001b[0;32m<ipython-input-12-301d3653ca31>\u001b[0m in \u001b[0;36mfitness_function\u001b[0;34m(env, agent, gene_pop)\u001b[0m\n\u001b[1;32m      5\u001b[0m     \u001b[0;32mfor\u001b[0m \u001b[0mi\u001b[0m\u001b[0;34m,\u001b[0m \u001b[0mgene\u001b[0m \u001b[0;32min\u001b[0m \u001b[0menumerate\u001b[0m\u001b[0;34m(\u001b[0m\u001b[0mgene_pop\u001b[0m\u001b[0;34m)\u001b[0m\u001b[0;34m:\u001b[0m\u001b[0;34m\u001b[0m\u001b[0;34m\u001b[0m\u001b[0m\n\u001b[1;32m      6\u001b[0m         \u001b[0magent\u001b[0m\u001b[0;34m.\u001b[0m\u001b[0mset_genes\u001b[0m\u001b[0;34m(\u001b[0m\u001b[0mgene\u001b[0m\u001b[0;34m)\u001b[0m\u001b[0;34m\u001b[0m\u001b[0;34m\u001b[0m\u001b[0m\n\u001b[0;32m----> 7\u001b[0;31m         \u001b[0mpop_fitness\u001b[0m\u001b[0;34m[\u001b[0m\u001b[0mi\u001b[0m\u001b[0;34m]\u001b[0m \u001b[0;34m=\u001b[0m \u001b[0mrun_episode\u001b[0m\u001b[0;34m(\u001b[0m\u001b[0menv\u001b[0m\u001b[0;34m,\u001b[0m \u001b[0magent\u001b[0m\u001b[0;34m)\u001b[0m\u001b[0;34m\u001b[0m\u001b[0;34m\u001b[0m\u001b[0m\n\u001b[0m\u001b[1;32m      8\u001b[0m     \u001b[0;32mreturn\u001b[0m \u001b[0mpop_fitness\u001b[0m\u001b[0;34m\u001b[0m\u001b[0;34m\u001b[0m\u001b[0m\n",
            "\u001b[0;32m<ipython-input-6-592a3d75ebc5>\u001b[0m in \u001b[0;36mrun_episode\u001b[0;34m(env, agent)\u001b[0m\n\u001b[1;32m      4\u001b[0m     \u001b[0mdone\u001b[0m \u001b[0;34m=\u001b[0m \u001b[0;32mFalse\u001b[0m\u001b[0;34m\u001b[0m\u001b[0;34m\u001b[0m\u001b[0m\n\u001b[1;32m      5\u001b[0m     \u001b[0;32mwhile\u001b[0m \u001b[0;32mnot\u001b[0m \u001b[0mdone\u001b[0m\u001b[0;34m:\u001b[0m\u001b[0;34m\u001b[0m\u001b[0;34m\u001b[0m\u001b[0m\n\u001b[0;32m----> 6\u001b[0;31m         \u001b[0maction\u001b[0m \u001b[0;34m=\u001b[0m \u001b[0magent\u001b[0m\u001b[0;34m.\u001b[0m\u001b[0mget_action\u001b[0m\u001b[0;34m(\u001b[0m\u001b[0mobs\u001b[0m\u001b[0;34m)\u001b[0m\u001b[0;34m\u001b[0m\u001b[0;34m\u001b[0m\u001b[0m\n\u001b[0m\u001b[1;32m      7\u001b[0m         \u001b[0mobs\u001b[0m\u001b[0;34m,\u001b[0m \u001b[0mreward\u001b[0m\u001b[0;34m,\u001b[0m \u001b[0mdone\u001b[0m\u001b[0;34m,\u001b[0m \u001b[0minfo\u001b[0m \u001b[0;34m=\u001b[0m \u001b[0menv\u001b[0m\u001b[0;34m.\u001b[0m\u001b[0mstep\u001b[0m\u001b[0;34m(\u001b[0m\u001b[0maction\u001b[0m\u001b[0;34m)\u001b[0m\u001b[0;34m\u001b[0m\u001b[0;34m\u001b[0m\u001b[0m\n\u001b[1;32m      8\u001b[0m         \u001b[0mtot_reward\u001b[0m \u001b[0;34m=\u001b[0m \u001b[0mtot_reward\u001b[0m \u001b[0;34m+\u001b[0m \u001b[0mreward\u001b[0m\u001b[0;34m\u001b[0m\u001b[0;34m\u001b[0m\u001b[0m\n",
            "\u001b[0;32m<ipython-input-9-255b05b931a6>\u001b[0m in \u001b[0;36mget_action\u001b[0;34m(self, x)\u001b[0m\n\u001b[1;32m     20\u001b[0m \u001b[0;34m\u001b[0m\u001b[0m\n\u001b[1;32m     21\u001b[0m     \u001b[0;32mdef\u001b[0m \u001b[0mget_action\u001b[0m\u001b[0;34m(\u001b[0m\u001b[0mself\u001b[0m\u001b[0;34m,\u001b[0m \u001b[0mx\u001b[0m\u001b[0;34m)\u001b[0m\u001b[0;34m:\u001b[0m\u001b[0;34m\u001b[0m\u001b[0;34m\u001b[0m\u001b[0m\n\u001b[0;32m---> 22\u001b[0;31m         \u001b[0;32mif\u001b[0m \u001b[0mself\u001b[0m\u001b[0;34m.\u001b[0m\u001b[0mforward\u001b[0m\u001b[0;34m(\u001b[0m\u001b[0mx\u001b[0m\u001b[0;34m)\u001b[0m \u001b[0;34m>\u001b[0m \u001b[0;36m0\u001b[0m\u001b[0;34m:\u001b[0m\u001b[0;34m\u001b[0m\u001b[0;34m\u001b[0m\u001b[0m\n\u001b[0m\u001b[1;32m     23\u001b[0m             \u001b[0;32mreturn\u001b[0m \u001b[0;36m1\u001b[0m\u001b[0;34m\u001b[0m\u001b[0;34m\u001b[0m\u001b[0m\n\u001b[1;32m     24\u001b[0m         \u001b[0;32melse\u001b[0m\u001b[0;34m:\u001b[0m\u001b[0;34m\u001b[0m\u001b[0;34m\u001b[0m\u001b[0m\n",
            "\u001b[0;31mKeyboardInterrupt\u001b[0m: "
          ]
        }
      ],
      "source": [
        "# Parameters\n",
        "epochs, pop_size, mutation_std = 1000, 15, 0.01\n",
        "num_obs, num_actions = 4, 1 \n",
        "\n",
        "# Create our agent\n",
        "agent = Agent(num_obs, num_actions)\n",
        "\n",
        "# Create our gene population\n",
        "gene_pop = np.random.normal(0, 0.1, (pop_size, agent.num_genes))\n",
        "\n",
        "# Get init fitness of the population\n",
        "fitness = fitness_function(env, agent, gene_pop)\n",
        "\n",
        "prev_fitness = fitness\n",
        "prev_gene_pop = gene_pop\n",
        "\n",
        "# Main loop\n",
        "for epoch in range(epochs):\n",
        "    # Mutate our population\n",
        "    gene_pop = mutation_function(prev_gene_pop, std=mutation_std)\n",
        "\n",
        "    # Get fitness of the mutated population\n",
        "    fitness = fitness_function(env, agent, gene_pop)\n",
        "\n",
        "    # Apply selection \n",
        "    gene_pop = select_genes(prev_gene_pop, gene_pop, prev_fitness, fitness)\n",
        "\n",
        "    # Evaluated the fitness of the selected population\n",
        "    prev_fitness = fitness_function(env, agent, gene_pop)\n",
        "    prev_gene_pop = gene_pop\n",
        "\n",
        "    if epoch % 100 == 0:\n",
        "        print(f\"Mean fitness of population {fitness.mean()}\")\n",
        "        print(f\"Max fitness of population {fitness.max()}\")"
      ]
    },
    {
      "cell_type": "markdown",
      "metadata": {
        "id": "yQvDjqN1O_Ub"
      },
      "source": [
        "## Visualise agent"
      ]
    },
    {
      "cell_type": "code",
      "execution_count": null,
      "metadata": {
        "id": "DSUeSsDCPCyp"
      },
      "outputs": [],
      "source": [
        "# Visualise our agent or save frames to file\n",
        "best_gene = get_best_gene(gene_pop, fitness)\n",
        "agent.set_genes(best_gene)\n",
        "visual_episode(env, agent)\n",
        "save_vis(env, agent)"
      ]
    },
    {
      "cell_type": "markdown",
      "source": [
        "# Genetic Algorithm"
      ],
      "metadata": {
        "id": "627x4vDTC11z"
      }
    },
    {
      "cell_type": "code",
      "source": [
        "class Agent:\n",
        "    def __init__(self, num_input, num_output):\n",
        "        self.num_input = num_input \n",
        "        self.num_output = num_output\n",
        "        self.num_genes = num_input * num_output + num_output\n",
        "        self.weights = None\n",
        "        self.bias = None\n",
        "\n",
        "    def set_genes(self, gene):\n",
        "        weight_idxs = self.num_input * self.num_output\n",
        "        bias_idxs = self.num_input * self.num_output + self.num_output\n",
        "        w = gene[0 : weight_idxs].reshape(self.num_output, self.num_input)   \n",
        "        b = gene[weight_idxs: bias_idxs].reshape(self.num_output,)\n",
        "        self.weights = torch.from_numpy(w)\n",
        "        self.bias = torch.from_numpy(b)\n",
        "\n",
        "    def forward(self, x):\n",
        "        x = torch.from_numpy(x).unsqueeze(0)\n",
        "        return torch.mm(x, self.weights.T) + self.bias\n",
        "\n",
        "    def get_action(self, x):\n",
        "        if self.forward(x) > 0:\n",
        "            return 1\n",
        "        else:\n",
        "            return 0\n",
        "\n",
        "\n",
        "def visual_episode(env, agent=None):\n",
        "    from pyvirtualdisplay import Display\n",
        "    display = Display(visible=0, size=(400, 300))\n",
        "    display.start()\n",
        "    prev_screen = env.render(mode='rgb_array')\n",
        "    plt.imshow(prev_screen)\n",
        "\n",
        "    tot_reward = 0.0\n",
        "    obs = env.reset()\n",
        "    done = False\n",
        "    curr_t = 0\n",
        "    while not done:\n",
        "        if agent is not None:\n",
        "            action = agent.get_action(obs)\n",
        "        else:\n",
        "            action = env.action_space.sample()\n",
        "        obs, reward, done, info = env.step(action)\n",
        "        screen = env.render(mode='rgb_array')\n",
        "        tot_reward = tot_reward + reward\n",
        "\n",
        "        plt.imshow(screen)\n",
        "        plt.title(curr_t)\n",
        "        ipythondisplay.clear_output(wait=True)\n",
        "        ipythondisplay.display(plt.gcf())\n",
        "        curr_t = curr_t + 1\n",
        "\n",
        "    ipythondisplay.clear_output(wait=True)\n",
        "    env.close()\n",
        "    return tot_reward\n",
        "\n",
        "def save_vis(env, agent=None, dirname='sim_frames'):\n",
        "    if os.path.isdir(dirname):\n",
        "      shutil.rmtree(dirname)\n",
        "    os.makedirs(dirname, exist_ok=True)\n",
        "    tot_reward = 0.0\n",
        "    obs = env.reset()\n",
        "    done = False\n",
        "    curr_t = 0\n",
        "    while not done:\n",
        "        if agent is not None:\n",
        "            action = agent.get_action(obs)\n",
        "        else:\n",
        "            action = env.action_space.sample()\n",
        "        obs, reward, done, info = env.step(action)\n",
        "        screen = env.render(mode='rgb_array')\n",
        "        tot_reward = tot_reward + reward\n",
        "        plt.imshow(screen)\n",
        "        plt.title(curr_t)\n",
        "        plt.savefig(os.path.join(dirname, 'fig{}'.format(curr_t)))\n",
        "        curr_t += 1\n",
        "\n",
        "\n",
        "def run_episode(env, agent):\n",
        "    tot_reward = 0.0\n",
        "    obs = env.reset()\n",
        "    done = False\n",
        "    observations =[]\n",
        "    while not done:\n",
        "        action = agent.get_action(obs)\n",
        "        obs, reward, done, info = env.step(action)\n",
        "        tot_reward = tot_reward + reward\n",
        "        observations.append(obs)\n",
        "    return tot_reward,observations\n",
        "\n",
        "def fitness_function(env, agent, genotype):\n",
        "    # Get fitness of genotype\n",
        "    agent.set_genes(genotype)\n",
        "    \n",
        "    fitness, ob = run_episode(env, agent)\n",
        "    return fitness ,ob\n",
        "\n",
        "def mutation_function(genotype, mean=0, std=0.1):\n",
        "    genotype = np.copy(genotype)\n",
        "    genotype = genotype + np.random.normal(mean, std, size=genotype.shape)\n",
        "\n",
        "    # constraint\n",
        "    for gene in genotype:\n",
        "      if gene > 4:\n",
        "        gene = 4\n",
        "      elif gene < -4: \n",
        "        gene = -4\n",
        "\n",
        "    return genotype\n",
        "\n",
        "def select_genes(prev_genotype, genotype, prev_fitness, fitness):\n",
        "    return prev_genotype if prev_fitness > fitness  else genotype\n",
        "\n",
        "def get_best_gene(gene_pop, fitness):\n",
        "    i = np.argmax(fitness)\n",
        "    return gene_pop[i]\n",
        "\n",
        "\n",
        "def pick_two(genotypes):\n",
        "  i1 = np.random.randint(0, len(genotypes) - 1)\n",
        "  i2 = np.random.randint(0, len(genotypes) - 1)\n",
        "  while i1 == i2:\n",
        "    i2 = np.random.randint(0, len(genotypes) - 1)\n",
        "  return (np.copy(genotypes[i1]), np.copy(genotypes[i2])), (i1, i2)\n",
        "\n",
        "\n",
        "\n",
        "\n",
        "def fitness_of_population(env, agent, gene_pop):\n",
        "    # Get fitness for each gene\n",
        "    pop_size = gene_pop.shape[0]\n",
        "    pop_fitness = np.zeros(pop_size)\n",
        "    obs = [0] * pop_size\n",
        "    for i, gene in enumerate(gene_pop):\n",
        "        agent.set_genes(gene)\n",
        "        pop_fitness[i], obs[i] = run_episode(env, agent)\n",
        "    return pop_fitness ,obs\n",
        "\n",
        "import numpy as np\n",
        "import random as rand\n",
        "\n",
        "\n",
        "def mutation(genotype,mutation_rate):\n",
        "  for i in range(len(genotype)):\n",
        "    if mutation_rate > np.random.random():\n",
        "      if genotype[i] == 1:\n",
        "        genotype[i] = 0\n",
        "      else:\n",
        "        genotype[i] = 1\n",
        "\n",
        "def local_neighbour(neighbourhood_size,index,populationsize):\n",
        "  k = index + neighbourhood_size\n",
        "  if k > populationsize:\n",
        "    local_neighbour_idx = k - populationsize\n",
        "  else:\n",
        "    local_neighbour_idx = np.random.randint(index+1, index + neighbourhood_size) # pick random neighbour \n",
        "  #local_neighbour_gene = genotypes[local_neighbour_idx, :]\n",
        "  return local_neighbour_idx\n",
        "\n",
        "\n",
        "def Pcrossover(Wgenotype,Lgenotype,crossover_prob ):\n",
        "  for i in range(len(Lgenotype)):\n",
        "    if crossover_prob > np.random.random():\n",
        "      Lgenotype[i] = Wgenotype[i]\n",
        "\n",
        "  return Lgenotype\n",
        "  \n",
        "\n",
        "\n",
        "def getlargestarr(arrofarr):\n",
        "  maxarr=[]\n",
        "  for i in arrofarr:\n",
        "    maxarr.append(max(i))\n",
        "  return maxarr.index(max(maxarr))\n",
        "\n",
        "\n",
        "\n",
        "def getWinner(genotypes, env, agent):\n",
        "  assert len(genotypes) == 2\n",
        "\n",
        "  if fitness_function(env, agent, genotypes[0])[0] > fitness_function(env, agent, genotypes[1])[0]:\n",
        "    return genotypes[0] , genotypes[1]\n",
        "  else:\n",
        "    return genotypes[1], genotypes[0]\n",
        "\n",
        "\n",
        "# lets say I want to sample a neighbour for indivudal 3\n",
        "#print(local_neighbour_gene)\n",
        "def runTournament(neighbourhood,crossover_prob,mutation_rate,genotypes,env,agent):\n",
        "\n",
        "  genos, indexes = pick_two(genotypes)\n",
        "  W,L = getWinner(genos,env,agent)\n",
        "  L_prev,obs   = fitness_function(env, agent, L)\n",
        "  #print(\"L- \"+str(L_prev))\n",
        "  Pcrossover(W,L,crossover_prob)\n",
        "  mutated = mutation_function(L,std=mutation_rate)\n",
        "  L_post,obs = fitness_function(env, agent, L)\n",
        "  chosen_genes = select_genes(L, mutated, L_prev, L_post)\n",
        "  #print(\"L- \"+ str(L_post))\n",
        "  genotypes[indexes[0]] = W\n",
        "  genotypes[indexes[1]] = chosen_genes\n",
        "\n",
        "\n",
        "  return genotypes\n",
        "\n",
        "\n",
        "\n",
        "\n",
        "\n",
        "\n",
        "\n",
        "\n",
        "  "
      ],
      "metadata": {
        "colab": {
          "base_uri": "https://localhost:8080/"
        },
        "id": "uuAeoTj3C7ev",
        "outputId": "ec657336-6ff8-4fcc-8d37-b229a3832bc6"
      },
      "execution_count": null,
      "outputs": [
        {
          "output_type": "stream",
          "name": "stdout",
          "text": [
            "[ 0.19733327  1.35553842 -0.23567856 -2.01840168]\n"
          ]
        }
      ]
    },
    {
      "cell_type": "markdown",
      "source": [
        "Algorithm"
      ],
      "metadata": {
        "id": "6xNnHnMdECEr"
      }
    },
    {
      "cell_type": "markdown",
      "source": [
        "#Pole angle vs Time\n",
        "Shows pole angle vs time \n",
        "shows each interval "
      ],
      "metadata": {
        "id": "hfjWjYohbQp9"
      }
    },
    {
      "cell_type": "code",
      "source": [
        "epochs, pop_size, mutation_std = 1000, 15, 0.01\n",
        "num_obs, num_actions = 4, 1 \n",
        "env_name = 'CartPole-v1'\n",
        "env = gym.make(env_name) # create the gym environment\n",
        "all_pop_fitnesses_max = []\n",
        "size = plt.figure(figsize= (15,7))\n",
        "size.suptitle(\"Pole Angle vs Time \")\n",
        "# Create our agent\n",
        "agent = Agent(num_obs, num_actions)\n",
        "\n",
        "\n",
        "# Create our gene population\n",
        "\n",
        "for j in range(1,4):\n",
        "  all_pop_fitnesses_max = []\n",
        "  all_obs = []\n",
        "  allangles =[]\n",
        "  all = []\n",
        "  b = []\n",
        "\n",
        "  genotypes = np.random.normal(0, 0.1, (pop_size, agent.num_genes))\n",
        "  for i in range(0, epochs):\n",
        "    runTournament(8,0.6,mutation_std,genotypes, env, agent)\n",
        "\n",
        "    \n",
        "    if i % 1   == 0:\n",
        "\n",
        "      pop_fitness,all_obs= fitness_of_population(env, agent, genotypes)\n",
        "      \n",
        "      #print(\"Mean population fitness: {}\".format(pop_fitness.mean()))\n",
        "      #print(\"Max population fitness: {}\".format(pop_fitness.max()))\n",
        "      all_pop_fitnesses_max.append(pop_fitness.max())\n",
        "  #plt.plot(all_pop_fitnesses_max, label = \"T Run \"+str(j))\n",
        "  for b in range(len(all_obs[0])):\n",
        "    for k in range(len(all_obs[0][b])):\n",
        "      allangles.append(all_obs[0][b][2])\n",
        "      #all.append(all_obs[0][j][0])\n",
        "      #b.append(all_obs[0][j][3])\n",
        "  #plt.plot(allangles, label = \"a\")\n",
        "  plt.plot(allangles, label = j)\n",
        "  #plt.plot(b, label = \"c\")\n",
        "\n",
        "  plt.legend()\n"
      ],
      "metadata": {
        "colab": {
          "base_uri": "https://localhost:8080/",
          "height": 479
        },
        "id": "Xrzak07dEF-R",
        "outputId": "6f2f9e31-edf2-4c54-a8dc-6515c87c551f"
      },
      "execution_count": null,
      "outputs": [
        {
          "output_type": "display_data",
          "data": {
            "text/plain": [
              "<Figure size 1080x504 with 1 Axes>"
            ],
            "image/png": "[encoded data removed]"
          },
          "metadata": {
            "needs_background": "light"
          }
        }
      ]
    },
    {
      "cell_type": "markdown",
      "source": [
        "#Max Fitness vs Tournament runs"
      ],
      "metadata": {
        "id": "Jj64W_jCFGdR"
      }
    },
    {
      "cell_type": "code",
      "source": [
        "epochs, pop_size, mutation_std = 1000, 15, 0.01\n",
        "num_obs, num_actions = 4, 1 \n",
        "env_name = 'CartPole-v1'\n",
        "env = gym.make(env_name) # create the gym environment\n",
        "all_pop_fitnesses_max = []\n",
        "size = plt.figure(figsize= (15,7))\n",
        "size.suptitle(\"Max fitness vs Tournament runs \")\n",
        "# Create our agent\n",
        "agent = Agent(num_obs, num_actions)\n",
        "all_obs = []\n",
        "\n",
        "# Create our gene population\n",
        "\n",
        "for j in range(1,4):\n",
        "  all_pop_fitnesses_max = []\n",
        "  genotypes = np.random.normal(0, 0.1, (pop_size, agent.num_genes))\n",
        "  for i in range(0, epochs):\n",
        "    runTournament(8,0.6,mutation_std,genotypes, env, agent)\n",
        "\n",
        "    \n",
        "    if i % 1   == 0:\n",
        "\n",
        "      pop_fitness,all_obs = fitness_of_population(env, agent, genotypes)\n",
        "      all_pop_fitnesses_max.append(pop_fitness.max())\n",
        "\n",
        "    elif i % 100 == 0:\n",
        "      print(\"Mean population fitness: {}\".format(pop_fitness.mean()))\n",
        "      print(\"Max population fitness: {}\".format(pop_fitness.max()))\n",
        "  plt.plot(all_pop_fitnesses_max, label = \"T Run \"+str(j))\n",
        "  plt.legend()\n"
      ],
      "metadata": {
        "id": "GXhMU7MVJIzf"
      },
      "execution_count": null,
      "outputs": []
    },
    {
      "cell_type": "markdown",
      "source": [
        "#Mean Fitness vs Tournament runs"
      ],
      "metadata": {
        "id": "-rwsrKC_elrZ"
      }
    },
    {
      "cell_type": "code",
      "source": [
        "epochs, pop_size, mutation_std = 1000, 15, 0.01\n",
        "num_obs, num_actions = 4, 1 \n",
        "env_name = 'CartPole-v1'\n",
        "env = gym.make(env_name) # create the gym environment\n",
        "all_pop_fitnesses_max = []\n",
        "size = plt.figure(figsize= (15,7))\n",
        "size.suptitle(\"Mean fitness vs Tournament runs \")\n",
        "# Create our agent\n",
        "agent = Agent(num_obs, num_actions)\n",
        "all_obs = []\n",
        "\n",
        "# Create our gene population\n",
        "\n",
        "for j in range(1,4):\n",
        "  all_pop_fitnesses_max = []\n",
        "  genotypes = np.random.normal(0, 0.1, (pop_size, agent.num_genes))\n",
        "  for i in range(0, epochs):\n",
        "    runTournament(8,0.6,mutation_std,genotypes, env, agent)\n",
        "\n",
        "    \n",
        "    if i % 1   == 0:\n",
        "\n",
        "      pop_fitness,all_obs = fitness_of_population(env, agent, genotypes)\n",
        "      all_pop_fitnesses_max.append(pop_fitness.mean())\n",
        "    elif i % 100 == 0:\n",
        "    print(\"Mean population fitness: {}\".format(pop_fitness.mean()))\n",
        "    print(\"Max population fitness: {}\".format(pop_fitness.max()))\n",
        "  plt.plot(all_pop_fitnesses_max, label = \"T Run \"+str(j))\n",
        "  plt.legend()\n"
      ],
      "metadata": {
        "id": "k_gp0oSReklS"
      },
      "execution_count": null,
      "outputs": []
    },
    {
      "cell_type": "code",
      "source": [
        "epochs, pop_size, mutation_std = 1000, 15, 0.01\n",
        "num_obs, num_actions = 4, 1 \n",
        "env_name = 'CartPole-v1'\n",
        "env = gym.make(env_name) # create the gym environment\n",
        "all_pop_fitnesses_mean = []\n",
        "size = plt.figure(figsize= (15,7))\n",
        "size.suptitle(\"Mean fitness vs Tournament runs \")\n",
        "# Create our agent\n",
        "agent = Agent(num_obs, num_actions)\n",
        "new_obs = []\n",
        "# Create our gene population\n",
        "genotypes = np.random.normal(0, 0.1, (pop_size, agent.num_genes))\n",
        "\n",
        "for i in range(0, epochs):\n",
        "  runTournament(8,0.6,mutation_std,genotypes, env, agent)\n",
        "\n",
        "  \n",
        "  if i % 1   == 0:\n",
        "\n",
        "    pop_fitness,newobs = fitness_of_population(env, agent, genotypes)\n",
        "    \n",
        "    print(\"Mean population fitness: {}\".format(pop_fitness.mean()))\n",
        "    print(\"Max population fitness: {}\".format(pop_fitness.max()))\n",
        "    all_pop_fitnesses_mean.append(pop_fitness.mean())\n",
        "plt.plot(all_pop_fitnesses_mean)"
      ],
      "metadata": {
        "id": "24OOoMOrJp6a",
        "colab": {
          "base_uri": "https://localhost:8080/",
          "height": 496
        },
        "outputId": "9d13fb56-fbea-406a-87a0-ba272bf32735"
      },
      "execution_count": null,
      "outputs": [
        {
          "output_type": "execute_result",
          "data": {
            "text/plain": [
              "[<matplotlib.lines.Line2D at 0x7fd0b12656d0>]"
            ]
          },
          "metadata": {},
          "execution_count": 59
        },
        {
          "output_type": "display_data",
          "data": {
            "text/plain": [
              "<Figure size 1080x504 with 1 Axes>"
            ],
            "image/png": "[encoded data removed]"
          },
          "metadata": {
            "needs_background": "light"
          }
        }
      ]
    },
    {
      "cell_type": "markdown",
      "source": [
        "#The best Controller at Intervals of 0, 500 and 1000"
      ],
      "metadata": {
        "id": "uA0ANctGfwn7"
      }
    },
    {
      "cell_type": "code",
      "source": [
        "epochs, pop_size, mutation_std = 1001, 15, 0.01\n",
        "num_obs, num_actions = 4, 1 \n",
        "env_name = 'CartPole-v1'\n",
        "env = gym.make(env_name) # create the gym environment\n",
        "all_pop_fitnesses_mean = []\n",
        "size = plt.figure(figsize= (15,7))\n",
        "x=[\"0\",\"500\",\"1000\"]\n",
        "size.suptitle(\"Mean fitness vs Tournament runs \")\n",
        "# Create our agent\n",
        "agent = Agent(num_obs, num_actions)\n",
        "obs = obs\n",
        "# Create our gene population\n",
        "genotypes = np.random.normal(0, 0.1, (pop_size, agent.num_genes))\n",
        "\n",
        "for i in range(0, epochs):\n",
        "  runTournament(8,0.6,mutation_std,genotypes, env, agent)\n",
        "\n",
        "  \n",
        "  if i % 500   == 0:\n",
        "\n",
        "    pop_fitness,obs = fitness_of_population(env, agent, genotypes)\n",
        "    \n",
        "    #print(\"Mean population fitness: {}\".format(pop_fitness.mean()))\n",
        "    #print(\"Max population fitness: {}\".format(pop_fitness.max()))\n",
        "    all_pop_fitnesses_mean.append(pop_fitness.max())\n",
        "plt.bar(x,all_pop_fitnesses_mean)\n",
        "#print(all_pop_fitnesses_mean)"
      ],
      "metadata": {
        "colab": {
          "base_uri": "https://localhost:8080/",
          "height": 397
        },
        "id": "OxPaKvVTft8e",
        "outputId": "ed1e7b01-afcf-4cc5-b659-04f084a932a5"
      },
      "execution_count": null,
      "outputs": [
        {
          "output_type": "error",
          "ename": "ValueError",
          "evalue": "ignored",
          "traceback": [
            "\u001b[0;31m---------------------------------------------------------------------------\u001b[0m",
            "\u001b[0;31mValueError\u001b[0m                                Traceback (most recent call last)",
            "\u001b[0;32m<ipython-input-25-a3f0b458c8e1>\u001b[0m in \u001b[0;36m<module>\u001b[0;34m()\u001b[0m\n\u001b[1;32m     14\u001b[0m \u001b[0;34m\u001b[0m\u001b[0m\n\u001b[1;32m     15\u001b[0m \u001b[0;32mfor\u001b[0m \u001b[0mi\u001b[0m \u001b[0;32min\u001b[0m \u001b[0mrange\u001b[0m\u001b[0;34m(\u001b[0m\u001b[0;36m0\u001b[0m\u001b[0;34m,\u001b[0m \u001b[0mepochs\u001b[0m\u001b[0;34m)\u001b[0m\u001b[0;34m:\u001b[0m\u001b[0;34m\u001b[0m\u001b[0;34m\u001b[0m\u001b[0m\n\u001b[0;32m---> 16\u001b[0;31m   \u001b[0mrunTournament\u001b[0m\u001b[0;34m(\u001b[0m\u001b[0;36m8\u001b[0m\u001b[0;34m,\u001b[0m\u001b[0;36m0.6\u001b[0m\u001b[0;34m,\u001b[0m\u001b[0mmutation_std\u001b[0m\u001b[0;34m,\u001b[0m\u001b[0mgenotypes\u001b[0m\u001b[0;34m,\u001b[0m \u001b[0menv\u001b[0m\u001b[0;34m,\u001b[0m \u001b[0magent\u001b[0m\u001b[0;34m)\u001b[0m\u001b[0;34m\u001b[0m\u001b[0;34m\u001b[0m\u001b[0m\n\u001b[0m\u001b[1;32m     17\u001b[0m \u001b[0;34m\u001b[0m\u001b[0m\n\u001b[1;32m     18\u001b[0m \u001b[0;34m\u001b[0m\u001b[0m\n",
            "\u001b[0;32m<ipython-input-23-88995a97738d>\u001b[0m in \u001b[0;36mrunTournament\u001b[0;34m(neighbourhood, crossover_prob, mutation_rate, genotypes, env, agent)\u001b[0m\n\u001b[1;32m    233\u001b[0m \u001b[0;34m\u001b[0m\u001b[0m\n\u001b[1;32m    234\u001b[0m   \u001b[0mgenos\u001b[0m\u001b[0;34m,\u001b[0m \u001b[0mindexes\u001b[0m \u001b[0;34m=\u001b[0m \u001b[0mpick_two\u001b[0m\u001b[0;34m(\u001b[0m\u001b[0mgenotypes\u001b[0m\u001b[0;34m)\u001b[0m\u001b[0;34m\u001b[0m\u001b[0;34m\u001b[0m\u001b[0m\n\u001b[0;32m--> 235\u001b[0;31m   \u001b[0mW\u001b[0m\u001b[0;34m,\u001b[0m\u001b[0mL\u001b[0m \u001b[0;34m=\u001b[0m \u001b[0mgetWinner\u001b[0m\u001b[0;34m(\u001b[0m\u001b[0mgenos\u001b[0m\u001b[0;34m,\u001b[0m\u001b[0menv\u001b[0m\u001b[0;34m,\u001b[0m\u001b[0magent\u001b[0m\u001b[0;34m)\u001b[0m\u001b[0;34m\u001b[0m\u001b[0;34m\u001b[0m\u001b[0m\n\u001b[0m\u001b[1;32m    236\u001b[0m   \u001b[0mL_prev\u001b[0m\u001b[0;34m,\u001b[0m\u001b[0mL_obs\u001b[0m  \u001b[0;34m=\u001b[0m \u001b[0mfitness_function\u001b[0m\u001b[0;34m(\u001b[0m\u001b[0menv\u001b[0m\u001b[0;34m,\u001b[0m \u001b[0magent\u001b[0m\u001b[0;34m,\u001b[0m \u001b[0mL\u001b[0m\u001b[0;34m)\u001b[0m\u001b[0;34m\u001b[0m\u001b[0;34m\u001b[0m\u001b[0m\n\u001b[1;32m    237\u001b[0m   \u001b[0;31m#print(\"L- \"+str(L_prev))\u001b[0m\u001b[0;34m\u001b[0m\u001b[0;34m\u001b[0m\u001b[0;34m\u001b[0m\u001b[0m\n",
            "\u001b[0;32m<ipython-input-23-88995a97738d>\u001b[0m in \u001b[0;36mgetWinner\u001b[0;34m(genotypes, env, agent)\u001b[0m\n\u001b[1;32m    207\u001b[0m   \u001b[0;32massert\u001b[0m \u001b[0mlen\u001b[0m\u001b[0;34m(\u001b[0m\u001b[0mgenotypes\u001b[0m\u001b[0;34m)\u001b[0m \u001b[0;34m==\u001b[0m \u001b[0;36m2\u001b[0m\u001b[0;34m\u001b[0m\u001b[0;34m\u001b[0m\u001b[0m\n\u001b[1;32m    208\u001b[0m \u001b[0;34m\u001b[0m\u001b[0m\n\u001b[0;32m--> 209\u001b[0;31m   \u001b[0;32mif\u001b[0m \u001b[0mfitness_function\u001b[0m\u001b[0;34m(\u001b[0m\u001b[0menv\u001b[0m\u001b[0;34m,\u001b[0m \u001b[0magent\u001b[0m\u001b[0;34m,\u001b[0m \u001b[0mgenotypes\u001b[0m\u001b[0;34m[\u001b[0m\u001b[0;36m0\u001b[0m\u001b[0;34m]\u001b[0m\u001b[0;34m)\u001b[0m \u001b[0;34m>\u001b[0m \u001b[0mfitness_function\u001b[0m\u001b[0;34m(\u001b[0m\u001b[0menv\u001b[0m\u001b[0;34m,\u001b[0m \u001b[0magent\u001b[0m\u001b[0;34m,\u001b[0m \u001b[0mgenotypes\u001b[0m\u001b[0;34m[\u001b[0m\u001b[0;36m1\u001b[0m\u001b[0;34m]\u001b[0m\u001b[0;34m)\u001b[0m\u001b[0;34m:\u001b[0m\u001b[0;34m\u001b[0m\u001b[0;34m\u001b[0m\u001b[0m\n\u001b[0m\u001b[1;32m    210\u001b[0m     \u001b[0;32mreturn\u001b[0m \u001b[0mgenotypes\u001b[0m\u001b[0;34m[\u001b[0m\u001b[0;36m0\u001b[0m\u001b[0;34m]\u001b[0m \u001b[0;34m,\u001b[0m \u001b[0mgenotypes\u001b[0m\u001b[0;34m[\u001b[0m\u001b[0;36m1\u001b[0m\u001b[0;34m]\u001b[0m\u001b[0;34m\u001b[0m\u001b[0;34m\u001b[0m\u001b[0m\n\u001b[1;32m    211\u001b[0m   \u001b[0;32melse\u001b[0m\u001b[0;34m:\u001b[0m\u001b[0;34m\u001b[0m\u001b[0;34m\u001b[0m\u001b[0m\n",
            "\u001b[0;31mValueError\u001b[0m: The truth value of an array with more than one element is ambiguous. Use a.any() or a.all()"
          ]
        },
        {
          "output_type": "display_data",
          "data": {
            "text/plain": [
              "<Figure size 1080x504 with 0 Axes>"
            ]
          },
          "metadata": {}
        }
      ]
    }
  ],
  "metadata": {
    "colab": {
      "provenance": []
    },
    "kernelspec": {
      "display_name": "Python 3",
      "name": "python3"
    }
  },
  "nbformat": 4,
  "nbformat_minor": 0
}